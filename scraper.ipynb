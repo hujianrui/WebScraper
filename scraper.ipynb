{
 "cells": [
  {
   "cell_type": "code",
   "execution_count": 1,
   "metadata": {},
   "outputs": [],
   "source": [
    "# https://news.ycombinator.com/robots.txt\n",
    "# User-Agent: * \n",
    "# Disallow: /x?\n",
    "# Disallow: /vote?\n",
    "# Disallow: /reply?\n",
    "# Disallow: /submitted?\n",
    "# Disallow: /submitlink?\n",
    "# Disallow: /threads?\n",
    "# Crawl-delay: 30"
   ]
  },
  {
   "cell_type": "code",
   "execution_count": 2,
   "metadata": {},
   "outputs": [],
   "source": [
    "from bs4 import BeautifulSoup\n",
    "from selenium import webdriver\n",
    "from selenium.webdriver.common.keys import Keys\n",
    "import time\n",
    "import re\n",
    "import pandas as pd\n",
    "import statsmodels.formula.api as sm\n",
    "import matplotlib.pyplot as plt"
   ]
  },
  {
   "cell_type": "markdown",
   "metadata": {},
   "source": [
    "# Part 1 Data Aquisition"
   ]
  },
  {
   "cell_type": "code",
   "execution_count": 3,
   "metadata": {},
   "outputs": [],
   "source": [
    "def getDataList():\n",
    "    #grab the html page\n",
    "    html = browser.page_source\n",
    "    #html pare\n",
    "    soup = BeautifulSoup(html,'lxml')\n",
    "\n",
    "    for tag in soup.find_all(class_=\"athing\"):\n",
    "        rank = tag.find(\"span\",{\"class\":\"rank\"}).text\n",
    "        ranks.append(rank)\n",
    "        title = tag.find(\"a\",{\"class\":\"storylink\"}).text\n",
    "        titles.append(title)\n",
    "        titLens.append(len(title))\n",
    "    for tag in soup.find_all(class_=\"subtext\"):\n",
    "        try:\n",
    "            age = tag.find(text=re.compile('hour|minute|day')).text\n",
    "        except:\n",
    "            age = tag.find(text=re.compile('hour|minute|day'))\n",
    "        ages.append(age)\n",
    "        try:\n",
    "            point = tag.find(\"span\",{\"class\":\"score\"}).text\n",
    "        except:\n",
    "            point = tag.find(\"span\",{\"class\":\"score\"})\n",
    "        points.append(point)\n",
    "        try:\n",
    "            numCom = tag.find(text=re.compile('comment')).text\n",
    "        except:\n",
    "            numCom = tag.find(text=re.compile('comment'))\n",
    "        numComs.append(numCom)"
   ]
  },
  {
   "cell_type": "code",
   "execution_count": 4,
   "metadata": {},
   "outputs": [],
   "source": [
    "#target web link\n",
    "url = \"https://news.ycombinator.com\"\n",
    "#use safari open the web\n",
    "browser = webdriver.Safari()\n",
    "browser.get(url)"
   ]
  },
  {
   "cell_type": "code",
   "execution_count": 5,
   "metadata": {},
   "outputs": [],
   "source": [
    "# scrap data list from first 5 page\n",
    "ranks = []\n",
    "titles = []\n",
    "titLens = []\n",
    "ages = []\n",
    "points = []\n",
    "numComs = []\n",
    "for i in range(0,5):   \n",
    "    getDataList()\n",
    "    time.sleep(3)\n",
    "    # next page\n",
    "    more = browser.find_element_by_class_name(\"morelink\")\n",
    "    more.click()\n",
    "browser.close()"
   ]
  },
  {
   "cell_type": "code",
   "execution_count": 6,
   "metadata": {},
   "outputs": [],
   "source": [
    "# clear ranks\n",
    "for i in range(len(ranks)): \n",
    "    ranks[i] = ranks[i].replace('.','')\n",
    "# convert ranks to int   \n",
    "ranks = list(map(int, ranks))"
   ]
  },
  {
   "cell_type": "code",
   "execution_count": 7,
   "metadata": {},
   "outputs": [],
   "source": [
    "# clear ages\n",
    "for i in range(len(ages)): \n",
    "    ages[i] = ages[i].replace(' ago','')"
   ]
  },
  {
   "cell_type": "code",
   "execution_count": 8,
   "metadata": {},
   "outputs": [],
   "source": [
    "# clear points and convert to int\n",
    "for i in range(len(points)):\n",
    "    try:\n",
    "        points[i] = int(re.search(r'\\d+', points[i]).group())\n",
    "    except:\n",
    "        points[i] = 0"
   ]
  },
  {
   "cell_type": "code",
   "execution_count": 9,
   "metadata": {},
   "outputs": [],
   "source": [
    "# clear numComs and convert to int\n",
    "for i in range(len(numComs)): \n",
    "    try:\n",
    "        numComs[i] = numComs[i].replace('\\xa0comments','')\n",
    "        numComs[i] = numComs[i].replace('\\xa0comment','')\n",
    "        numComs[i] = int(re.search(r'\\d+', numComs[i]).group())\n",
    "    except:\n",
    "        numComs[i] = 0"
   ]
  },
  {
   "cell_type": "code",
   "execution_count": 10,
   "metadata": {},
   "outputs": [],
   "source": [
    "# creat dataframe and csv file\n",
    "dataList = list(zip(ranks, titles, titLens, ages, points, numComs))\n",
    "df = pd.DataFrame(dataList, columns = ['Rank', 'Title', 'TitleLength', 'Age', 'Point', 'NumberOfComment'])\n",
    "df.to_csv('out.csv')"
   ]
  },
  {
   "cell_type": "markdown",
   "metadata": {},
   "source": [
    "# Part 2 Regression"
   ]
  },
  {
   "cell_type": "code",
   "execution_count": 11,
   "metadata": {},
   "outputs": [
    {
     "data": {
      "text/html": [
       "<table class=\"simpletable\">\n",
       "<caption>OLS Regression Results</caption>\n",
       "<tr>\n",
       "  <th>Dep. Variable:</th>          <td>Rank</td>       <th>  R-squared:         </th> <td>   0.003</td>\n",
       "</tr>\n",
       "<tr>\n",
       "  <th>Model:</th>                   <td>OLS</td>       <th>  Adj. R-squared:    </th> <td>  -0.004</td>\n",
       "</tr>\n",
       "<tr>\n",
       "  <th>Method:</th>             <td>Least Squares</td>  <th>  F-statistic:       </th> <td>  0.3901</td>\n",
       "</tr>\n",
       "<tr>\n",
       "  <th>Date:</th>             <td>Wed, 05 Jun 2019</td> <th>  Prob (F-statistic):</th>  <td> 0.533</td> \n",
       "</tr>\n",
       "<tr>\n",
       "  <th>Time:</th>                 <td>19:18:49</td>     <th>  Log-Likelihood:    </th> <td> -777.87</td>\n",
       "</tr>\n",
       "<tr>\n",
       "  <th>No. Observations:</th>      <td>   150</td>      <th>  AIC:               </th> <td>   1560.</td>\n",
       "</tr>\n",
       "<tr>\n",
       "  <th>Df Residuals:</th>          <td>   148</td>      <th>  BIC:               </th> <td>   1566.</td>\n",
       "</tr>\n",
       "<tr>\n",
       "  <th>Df Model:</th>              <td>     1</td>      <th>                     </th>     <td> </td>   \n",
       "</tr>\n",
       "<tr>\n",
       "  <th>Covariance Type:</th>      <td>nonrobust</td>    <th>                     </th>     <td> </td>   \n",
       "</tr>\n",
       "</table>\n",
       "<table class=\"simpletable\">\n",
       "<tr>\n",
       "       <td></td>          <th>coef</th>     <th>std err</th>      <th>t</th>      <th>P>|t|</th>  <th>[0.025</th>    <th>0.975]</th>  \n",
       "</tr>\n",
       "<tr>\n",
       "  <th>Intercept</th>   <td>   68.7979</td> <td>   11.304</td> <td>    6.086</td> <td> 0.000</td> <td>   46.460</td> <td>   91.136</td>\n",
       "</tr>\n",
       "<tr>\n",
       "  <th>TitleLength</th> <td>    0.1283</td> <td>    0.205</td> <td>    0.625</td> <td> 0.533</td> <td>   -0.278</td> <td>    0.534</td>\n",
       "</tr>\n",
       "</table>\n",
       "<table class=\"simpletable\">\n",
       "<tr>\n",
       "  <th>Omnibus:</th>       <td>55.641</td> <th>  Durbin-Watson:     </th> <td>   0.005</td>\n",
       "</tr>\n",
       "<tr>\n",
       "  <th>Prob(Omnibus):</th> <td> 0.000</td> <th>  Jarque-Bera (JB):  </th> <td>   8.735</td>\n",
       "</tr>\n",
       "<tr>\n",
       "  <th>Skew:</th>          <td>-0.015</td> <th>  Prob(JB):          </th> <td>  0.0127</td>\n",
       "</tr>\n",
       "<tr>\n",
       "  <th>Kurtosis:</th>      <td> 1.818</td> <th>  Cond. No.          </th> <td>    175.</td>\n",
       "</tr>\n",
       "</table><br/><br/>Warnings:<br/>[1] Standard Errors assume that the covariance matrix of the errors is correctly specified."
      ],
      "text/plain": [
       "<class 'statsmodels.iolib.summary.Summary'>\n",
       "\"\"\"\n",
       "                            OLS Regression Results                            \n",
       "==============================================================================\n",
       "Dep. Variable:                   Rank   R-squared:                       0.003\n",
       "Model:                            OLS   Adj. R-squared:                 -0.004\n",
       "Method:                 Least Squares   F-statistic:                    0.3901\n",
       "Date:                Wed, 05 Jun 2019   Prob (F-statistic):              0.533\n",
       "Time:                        19:18:49   Log-Likelihood:                -777.87\n",
       "No. Observations:                 150   AIC:                             1560.\n",
       "Df Residuals:                     148   BIC:                             1566.\n",
       "Df Model:                           1                                         \n",
       "Covariance Type:            nonrobust                                         \n",
       "===============================================================================\n",
       "                  coef    std err          t      P>|t|      [0.025      0.975]\n",
       "-------------------------------------------------------------------------------\n",
       "Intercept      68.7979     11.304      6.086      0.000      46.460      91.136\n",
       "TitleLength     0.1283      0.205      0.625      0.533      -0.278       0.534\n",
       "==============================================================================\n",
       "Omnibus:                       55.641   Durbin-Watson:                   0.005\n",
       "Prob(Omnibus):                  0.000   Jarque-Bera (JB):                8.735\n",
       "Skew:                          -0.015   Prob(JB):                       0.0127\n",
       "Kurtosis:                       1.818   Cond. No.                         175.\n",
       "==============================================================================\n",
       "\n",
       "Warnings:\n",
       "[1] Standard Errors assume that the covariance matrix of the errors is correctly specified.\n",
       "\"\"\""
      ]
     },
     "execution_count": 11,
     "metadata": {},
     "output_type": "execute_result"
    }
   ],
   "source": [
    "# Rank ~ TitleLength model\n",
    "ad_NL = sm.ols(formula=\"Rank ~ TitleLength\", data=df).fit()\n",
    "ad_NL.summary()"
   ]
  },
  {
   "cell_type": "code",
   "execution_count": 12,
   "metadata": {},
   "outputs": [
    {
     "data": {
      "text/html": [
       "<table class=\"simpletable\">\n",
       "<caption>OLS Regression Results</caption>\n",
       "<tr>\n",
       "  <th>Dep. Variable:</th>          <td>Rank</td>       <th>  R-squared:         </th> <td>   0.000</td>\n",
       "</tr>\n",
       "<tr>\n",
       "  <th>Model:</th>                   <td>OLS</td>       <th>  Adj. R-squared:    </th> <td>  -0.007</td>\n",
       "</tr>\n",
       "<tr>\n",
       "  <th>Method:</th>             <td>Least Squares</td>  <th>  F-statistic:       </th> <td>0.008696</td>\n",
       "</tr>\n",
       "<tr>\n",
       "  <th>Date:</th>             <td>Wed, 05 Jun 2019</td> <th>  Prob (F-statistic):</th>  <td> 0.926</td> \n",
       "</tr>\n",
       "<tr>\n",
       "  <th>Time:</th>                 <td>19:18:49</td>     <th>  Log-Likelihood:    </th> <td> -778.06</td>\n",
       "</tr>\n",
       "<tr>\n",
       "  <th>No. Observations:</th>      <td>   150</td>      <th>  AIC:               </th> <td>   1560.</td>\n",
       "</tr>\n",
       "<tr>\n",
       "  <th>Df Residuals:</th>          <td>   148</td>      <th>  BIC:               </th> <td>   1566.</td>\n",
       "</tr>\n",
       "<tr>\n",
       "  <th>Df Model:</th>              <td>     1</td>      <th>                     </th>     <td> </td>   \n",
       "</tr>\n",
       "<tr>\n",
       "  <th>Covariance Type:</th>      <td>nonrobust</td>    <th>                     </th>     <td> </td>   \n",
       "</tr>\n",
       "</table>\n",
       "<table class=\"simpletable\">\n",
       "<tr>\n",
       "      <td></td>         <th>coef</th>     <th>std err</th>      <th>t</th>      <th>P>|t|</th>  <th>[0.025</th>    <th>0.975]</th>  \n",
       "</tr>\n",
       "<tr>\n",
       "  <th>Intercept</th> <td>   75.2357</td> <td>    4.549</td> <td>   16.537</td> <td> 0.000</td> <td>   66.245</td> <td>   84.226</td>\n",
       "</tr>\n",
       "<tr>\n",
       "  <th>Point</th>     <td>    0.0018</td> <td>    0.019</td> <td>    0.093</td> <td> 0.926</td> <td>   -0.036</td> <td>    0.040</td>\n",
       "</tr>\n",
       "</table>\n",
       "<table class=\"simpletable\">\n",
       "<tr>\n",
       "  <th>Omnibus:</th>       <td>61.340</td> <th>  Durbin-Watson:     </th> <td>   0.001</td>\n",
       "</tr>\n",
       "<tr>\n",
       "  <th>Prob(Omnibus):</th> <td> 0.000</td> <th>  Jarque-Bera (JB):  </th> <td>   9.012</td>\n",
       "</tr>\n",
       "<tr>\n",
       "  <th>Skew:</th>          <td>-0.000</td> <th>  Prob(JB):          </th> <td>  0.0110</td>\n",
       "</tr>\n",
       "<tr>\n",
       "  <th>Kurtosis:</th>      <td> 1.799</td> <th>  Cond. No.          </th> <td>    304.</td>\n",
       "</tr>\n",
       "</table><br/><br/>Warnings:<br/>[1] Standard Errors assume that the covariance matrix of the errors is correctly specified."
      ],
      "text/plain": [
       "<class 'statsmodels.iolib.summary.Summary'>\n",
       "\"\"\"\n",
       "                            OLS Regression Results                            \n",
       "==============================================================================\n",
       "Dep. Variable:                   Rank   R-squared:                       0.000\n",
       "Model:                            OLS   Adj. R-squared:                 -0.007\n",
       "Method:                 Least Squares   F-statistic:                  0.008696\n",
       "Date:                Wed, 05 Jun 2019   Prob (F-statistic):              0.926\n",
       "Time:                        19:18:49   Log-Likelihood:                -778.06\n",
       "No. Observations:                 150   AIC:                             1560.\n",
       "Df Residuals:                     148   BIC:                             1566.\n",
       "Df Model:                           1                                         \n",
       "Covariance Type:            nonrobust                                         \n",
       "==============================================================================\n",
       "                 coef    std err          t      P>|t|      [0.025      0.975]\n",
       "------------------------------------------------------------------------------\n",
       "Intercept     75.2357      4.549     16.537      0.000      66.245      84.226\n",
       "Point          0.0018      0.019      0.093      0.926      -0.036       0.040\n",
       "==============================================================================\n",
       "Omnibus:                       61.340   Durbin-Watson:                   0.001\n",
       "Prob(Omnibus):                  0.000   Jarque-Bera (JB):                9.012\n",
       "Skew:                          -0.000   Prob(JB):                       0.0110\n",
       "Kurtosis:                       1.799   Cond. No.                         304.\n",
       "==============================================================================\n",
       "\n",
       "Warnings:\n",
       "[1] Standard Errors assume that the covariance matrix of the errors is correctly specified.\n",
       "\"\"\""
      ]
     },
     "execution_count": 12,
     "metadata": {},
     "output_type": "execute_result"
    }
   ],
   "source": [
    "# Rank ~ Point model\n",
    "ad_NL = sm.ols(formula=\"Rank ~ Point\", data=df).fit()\n",
    "ad_NL.summary()"
   ]
  },
  {
   "cell_type": "code",
   "execution_count": 13,
   "metadata": {},
   "outputs": [
    {
     "data": {
      "text/html": [
       "<table class=\"simpletable\">\n",
       "<caption>OLS Regression Results</caption>\n",
       "<tr>\n",
       "  <th>Dep. Variable:</th>          <td>Rank</td>       <th>  R-squared:         </th> <td>   0.001</td>\n",
       "</tr>\n",
       "<tr>\n",
       "  <th>Model:</th>                   <td>OLS</td>       <th>  Adj. R-squared:    </th> <td>  -0.005</td>\n",
       "</tr>\n",
       "<tr>\n",
       "  <th>Method:</th>             <td>Least Squares</td>  <th>  F-statistic:       </th> <td>  0.2044</td>\n",
       "</tr>\n",
       "<tr>\n",
       "  <th>Date:</th>             <td>Wed, 05 Jun 2019</td> <th>  Prob (F-statistic):</th>  <td> 0.652</td> \n",
       "</tr>\n",
       "<tr>\n",
       "  <th>Time:</th>                 <td>19:18:49</td>     <th>  Log-Likelihood:    </th> <td> -777.96</td>\n",
       "</tr>\n",
       "<tr>\n",
       "  <th>No. Observations:</th>      <td>   150</td>      <th>  AIC:               </th> <td>   1560.</td>\n",
       "</tr>\n",
       "<tr>\n",
       "  <th>Df Residuals:</th>          <td>   148</td>      <th>  BIC:               </th> <td>   1566.</td>\n",
       "</tr>\n",
       "<tr>\n",
       "  <th>Df Model:</th>              <td>     1</td>      <th>                     </th>     <td> </td>   \n",
       "</tr>\n",
       "<tr>\n",
       "  <th>Covariance Type:</th>      <td>nonrobust</td>    <th>                     </th>     <td> </td>   \n",
       "</tr>\n",
       "</table>\n",
       "<table class=\"simpletable\">\n",
       "<tr>\n",
       "         <td></td>            <th>coef</th>     <th>std err</th>      <th>t</th>      <th>P>|t|</th>  <th>[0.025</th>    <th>0.975]</th>  \n",
       "</tr>\n",
       "<tr>\n",
       "  <th>Intercept</th>       <td>   74.3681</td> <td>    4.349</td> <td>   17.098</td> <td> 0.000</td> <td>   65.773</td> <td>   82.963</td>\n",
       "</tr>\n",
       "<tr>\n",
       "  <th>NumberOfComment</th> <td>    0.0163</td> <td>    0.036</td> <td>    0.452</td> <td> 0.652</td> <td>   -0.055</td> <td>    0.087</td>\n",
       "</tr>\n",
       "</table>\n",
       "<table class=\"simpletable\">\n",
       "<tr>\n",
       "  <th>Omnibus:</th>       <td>62.941</td> <th>  Durbin-Watson:     </th> <td>   0.003</td>\n",
       "</tr>\n",
       "<tr>\n",
       "  <th>Prob(Omnibus):</th> <td> 0.000</td> <th>  Jarque-Bera (JB):  </th> <td>   9.086</td>\n",
       "</tr>\n",
       "<tr>\n",
       "  <th>Skew:</th>          <td> 0.003</td> <th>  Prob(JB):          </th> <td>  0.0106</td>\n",
       "</tr>\n",
       "<tr>\n",
       "  <th>Kurtosis:</th>      <td> 1.794</td> <th>  Cond. No.          </th> <td>    148.</td>\n",
       "</tr>\n",
       "</table><br/><br/>Warnings:<br/>[1] Standard Errors assume that the covariance matrix of the errors is correctly specified."
      ],
      "text/plain": [
       "<class 'statsmodels.iolib.summary.Summary'>\n",
       "\"\"\"\n",
       "                            OLS Regression Results                            \n",
       "==============================================================================\n",
       "Dep. Variable:                   Rank   R-squared:                       0.001\n",
       "Model:                            OLS   Adj. R-squared:                 -0.005\n",
       "Method:                 Least Squares   F-statistic:                    0.2044\n",
       "Date:                Wed, 05 Jun 2019   Prob (F-statistic):              0.652\n",
       "Time:                        19:18:49   Log-Likelihood:                -777.96\n",
       "No. Observations:                 150   AIC:                             1560.\n",
       "Df Residuals:                     148   BIC:                             1566.\n",
       "Df Model:                           1                                         \n",
       "Covariance Type:            nonrobust                                         \n",
       "===================================================================================\n",
       "                      coef    std err          t      P>|t|      [0.025      0.975]\n",
       "-----------------------------------------------------------------------------------\n",
       "Intercept          74.3681      4.349     17.098      0.000      65.773      82.963\n",
       "NumberOfComment     0.0163      0.036      0.452      0.652      -0.055       0.087\n",
       "==============================================================================\n",
       "Omnibus:                       62.941   Durbin-Watson:                   0.003\n",
       "Prob(Omnibus):                  0.000   Jarque-Bera (JB):                9.086\n",
       "Skew:                           0.003   Prob(JB):                       0.0106\n",
       "Kurtosis:                       1.794   Cond. No.                         148.\n",
       "==============================================================================\n",
       "\n",
       "Warnings:\n",
       "[1] Standard Errors assume that the covariance matrix of the errors is correctly specified.\n",
       "\"\"\""
      ]
     },
     "execution_count": 13,
     "metadata": {},
     "output_type": "execute_result"
    }
   ],
   "source": [
    "# Rank ~ NumberOfComment model\n",
    "ad_NL = sm.ols(formula=\"Rank ~ NumberOfComment\", data=df).fit()\n",
    "ad_NL.summary()"
   ]
  },
  {
   "cell_type": "code",
   "execution_count": 14,
   "metadata": {},
   "outputs": [
    {
     "data": {
      "text/html": [
       "<table class=\"simpletable\">\n",
       "<caption>OLS Regression Results</caption>\n",
       "<tr>\n",
       "  <th>Dep. Variable:</th>          <td>Rank</td>       <th>  R-squared:         </th> <td>   0.005</td>\n",
       "</tr>\n",
       "<tr>\n",
       "  <th>Model:</th>                   <td>OLS</td>       <th>  Adj. R-squared:    </th> <td>  -0.016</td>\n",
       "</tr>\n",
       "<tr>\n",
       "  <th>Method:</th>             <td>Least Squares</td>  <th>  F-statistic:       </th> <td>  0.2412</td>\n",
       "</tr>\n",
       "<tr>\n",
       "  <th>Date:</th>             <td>Wed, 05 Jun 2019</td> <th>  Prob (F-statistic):</th>  <td> 0.868</td> \n",
       "</tr>\n",
       "<tr>\n",
       "  <th>Time:</th>                 <td>19:18:49</td>     <th>  Log-Likelihood:    </th> <td> -777.69</td>\n",
       "</tr>\n",
       "<tr>\n",
       "  <th>No. Observations:</th>      <td>   150</td>      <th>  AIC:               </th> <td>   1563.</td>\n",
       "</tr>\n",
       "<tr>\n",
       "  <th>Df Residuals:</th>          <td>   146</td>      <th>  BIC:               </th> <td>   1575.</td>\n",
       "</tr>\n",
       "<tr>\n",
       "  <th>Df Model:</th>              <td>     3</td>      <th>                     </th>     <td> </td>   \n",
       "</tr>\n",
       "<tr>\n",
       "  <th>Covariance Type:</th>      <td>nonrobust</td>    <th>                     </th>     <td> </td>   \n",
       "</tr>\n",
       "</table>\n",
       "<table class=\"simpletable\">\n",
       "<tr>\n",
       "         <td></td>            <th>coef</th>     <th>std err</th>      <th>t</th>      <th>P>|t|</th>  <th>[0.025</th>    <th>0.975]</th>  \n",
       "</tr>\n",
       "<tr>\n",
       "  <th>Intercept</th>       <td>   67.9872</td> <td>   11.938</td> <td>    5.695</td> <td> 0.000</td> <td>   44.393</td> <td>   91.582</td>\n",
       "</tr>\n",
       "<tr>\n",
       "  <th>TitleLength</th>     <td>    0.1299</td> <td>    0.207</td> <td>    0.627</td> <td> 0.532</td> <td>   -0.280</td> <td>    0.539</td>\n",
       "</tr>\n",
       "<tr>\n",
       "  <th>Point</th>           <td>   -0.0093</td> <td>    0.029</td> <td>   -0.327</td> <td> 0.745</td> <td>   -0.066</td> <td>    0.047</td>\n",
       "</tr>\n",
       "<tr>\n",
       "  <th>NumberOfComment</th> <td>    0.0304</td> <td>    0.054</td> <td>    0.565</td> <td> 0.573</td> <td>   -0.076</td> <td>    0.137</td>\n",
       "</tr>\n",
       "</table>\n",
       "<table class=\"simpletable\">\n",
       "<tr>\n",
       "  <th>Omnibus:</th>       <td>58.745</td> <th>  Durbin-Watson:     </th> <td>   0.010</td>\n",
       "</tr>\n",
       "<tr>\n",
       "  <th>Prob(Omnibus):</th> <td> 0.000</td> <th>  Jarque-Bera (JB):  </th> <td>   8.889</td>\n",
       "</tr>\n",
       "<tr>\n",
       "  <th>Skew:</th>          <td>-0.009</td> <th>  Prob(JB):          </th> <td>  0.0117</td>\n",
       "</tr>\n",
       "<tr>\n",
       "  <th>Kurtosis:</th>      <td> 1.808</td> <th>  Cond. No.          </th> <td>    874.</td>\n",
       "</tr>\n",
       "</table><br/><br/>Warnings:<br/>[1] Standard Errors assume that the covariance matrix of the errors is correctly specified."
      ],
      "text/plain": [
       "<class 'statsmodels.iolib.summary.Summary'>\n",
       "\"\"\"\n",
       "                            OLS Regression Results                            \n",
       "==============================================================================\n",
       "Dep. Variable:                   Rank   R-squared:                       0.005\n",
       "Model:                            OLS   Adj. R-squared:                 -0.016\n",
       "Method:                 Least Squares   F-statistic:                    0.2412\n",
       "Date:                Wed, 05 Jun 2019   Prob (F-statistic):              0.868\n",
       "Time:                        19:18:49   Log-Likelihood:                -777.69\n",
       "No. Observations:                 150   AIC:                             1563.\n",
       "Df Residuals:                     146   BIC:                             1575.\n",
       "Df Model:                           3                                         \n",
       "Covariance Type:            nonrobust                                         \n",
       "===================================================================================\n",
       "                      coef    std err          t      P>|t|      [0.025      0.975]\n",
       "-----------------------------------------------------------------------------------\n",
       "Intercept          67.9872     11.938      5.695      0.000      44.393      91.582\n",
       "TitleLength         0.1299      0.207      0.627      0.532      -0.280       0.539\n",
       "Point              -0.0093      0.029     -0.327      0.745      -0.066       0.047\n",
       "NumberOfComment     0.0304      0.054      0.565      0.573      -0.076       0.137\n",
       "==============================================================================\n",
       "Omnibus:                       58.745   Durbin-Watson:                   0.010\n",
       "Prob(Omnibus):                  0.000   Jarque-Bera (JB):                8.889\n",
       "Skew:                          -0.009   Prob(JB):                       0.0117\n",
       "Kurtosis:                       1.808   Cond. No.                         874.\n",
       "==============================================================================\n",
       "\n",
       "Warnings:\n",
       "[1] Standard Errors assume that the covariance matrix of the errors is correctly specified.\n",
       "\"\"\""
      ]
     },
     "execution_count": 14,
     "metadata": {},
     "output_type": "execute_result"
    }
   ],
   "source": [
    "# Rank ~ TitleLength+ Point + NumberOfComment model\n",
    "ad_NL = sm.ols(formula=\"Rank ~ TitleLength + Point + NumberOfComment\", data=df).fit()\n",
    "ad_NL.summary()"
   ]
  },
  {
   "cell_type": "code",
   "execution_count": 15,
   "metadata": {},
   "outputs": [],
   "source": [
    "# we get lower value in R-squared from all simple linear regression than mutilelinear regression\n",
    "# and, when we use simple linear regression, TitleLength is the most useful variable.\n",
    "# however, when we we use mutilelinear regression, NumberOfComment is the most useful variable.\n",
    "# I don't think there is any linear relationships between any variable. because the highest R-squared we get is 0.010\n",
    "# and it is too low for a linear relationships"
   ]
  },
  {
   "cell_type": "markdown",
   "metadata": {},
   "source": [
    "# Part 3 Classification"
   ]
  },
  {
   "cell_type": "code",
   "execution_count": 16,
   "metadata": {},
   "outputs": [],
   "source": [
    "front = []\n",
    "for i in range(len(ranks)):\n",
    "    if ranks[i] <= 30:\n",
    "        front.append(1)\n",
    "    else:\n",
    "        front.append(0)\n",
    "df['Front'] = front "
   ]
  },
  {
   "cell_type": "code",
   "execution_count": 17,
   "metadata": {},
   "outputs": [
    {
     "name": "stdout",
     "output_type": "stream",
     "text": [
      "Optimization terminated successfully.\n",
      "         Current function value: 0.495909\n",
      "         Iterations 6\n"
     ]
    },
    {
     "data": {
      "text/html": [
       "<table class=\"simpletable\">\n",
       "<caption>Logit Regression Results</caption>\n",
       "<tr>\n",
       "  <th>Dep. Variable:</th>       <td>Front</td>      <th>  No. Observations:  </th>  <td>   150</td> \n",
       "</tr>\n",
       "<tr>\n",
       "  <th>Model:</th>               <td>Logit</td>      <th>  Df Residuals:      </th>  <td>   146</td> \n",
       "</tr>\n",
       "<tr>\n",
       "  <th>Method:</th>               <td>MLE</td>       <th>  Df Model:          </th>  <td>     3</td> \n",
       "</tr>\n",
       "<tr>\n",
       "  <th>Date:</th>          <td>Wed, 05 Jun 2019</td> <th>  Pseudo R-squ.:     </th> <td>0.008980</td>\n",
       "</tr>\n",
       "<tr>\n",
       "  <th>Time:</th>              <td>19:18:49</td>     <th>  Log-Likelihood:    </th> <td> -74.386</td>\n",
       "</tr>\n",
       "<tr>\n",
       "  <th>converged:</th>           <td>True</td>       <th>  LL-Null:           </th> <td> -75.060</td>\n",
       "</tr>\n",
       "<tr>\n",
       "  <th> </th>                      <td> </td>        <th>  LLR p-value:       </th>  <td>0.7178</td> \n",
       "</tr>\n",
       "</table>\n",
       "<table class=\"simpletable\">\n",
       "<tr>\n",
       "         <td></td>            <th>coef</th>     <th>std err</th>      <th>z</th>      <th>P>|z|</th>  <th>[0.025</th>    <th>0.975]</th>  \n",
       "</tr>\n",
       "<tr>\n",
       "  <th>Intercept</th>       <td>   -1.4806</td> <td>    0.689</td> <td>   -2.150</td> <td> 0.032</td> <td>   -2.831</td> <td>   -0.131</td>\n",
       "</tr>\n",
       "<tr>\n",
       "  <th>TitleLength</th>     <td>    0.0042</td> <td>    0.012</td> <td>    0.353</td> <td> 0.724</td> <td>   -0.019</td> <td>    0.027</td>\n",
       "</tr>\n",
       "<tr>\n",
       "  <th>Point</th>           <td>    0.0007</td> <td>    0.002</td> <td>    0.359</td> <td> 0.720</td> <td>   -0.003</td> <td>    0.004</td>\n",
       "</tr>\n",
       "<tr>\n",
       "  <th>NumberOfComment</th> <td>   -0.0035</td> <td>    0.004</td> <td>   -0.850</td> <td> 0.395</td> <td>   -0.012</td> <td>    0.005</td>\n",
       "</tr>\n",
       "</table>"
      ],
      "text/plain": [
       "<class 'statsmodels.iolib.summary.Summary'>\n",
       "\"\"\"\n",
       "                           Logit Regression Results                           \n",
       "==============================================================================\n",
       "Dep. Variable:                  Front   No. Observations:                  150\n",
       "Model:                          Logit   Df Residuals:                      146\n",
       "Method:                           MLE   Df Model:                            3\n",
       "Date:                Wed, 05 Jun 2019   Pseudo R-squ.:                0.008980\n",
       "Time:                        19:18:49   Log-Likelihood:                -74.386\n",
       "converged:                       True   LL-Null:                       -75.060\n",
       "                                        LLR p-value:                    0.7178\n",
       "===================================================================================\n",
       "                      coef    std err          z      P>|z|      [0.025      0.975]\n",
       "-----------------------------------------------------------------------------------\n",
       "Intercept          -1.4806      0.689     -2.150      0.032      -2.831      -0.131\n",
       "TitleLength         0.0042      0.012      0.353      0.724      -0.019       0.027\n",
       "Point               0.0007      0.002      0.359      0.720      -0.003       0.004\n",
       "NumberOfComment    -0.0035      0.004     -0.850      0.395      -0.012       0.005\n",
       "===================================================================================\n",
       "\"\"\""
      ]
     },
     "execution_count": 17,
     "metadata": {},
     "output_type": "execute_result"
    }
   ],
   "source": [
    "# Front ~ TitleLength + Point + NumberOfComment model\n",
    "front_model = sm.logit(formula=\"Front ~ TitleLength + Point + NumberOfComment\", data=df).fit()\n",
    "front_model.summary()"
   ]
  },
  {
   "cell_type": "code",
   "execution_count": 18,
   "metadata": {},
   "outputs": [
    {
     "name": "stdout",
     "output_type": "stream",
     "text": [
      "Optimization terminated successfully.\n",
      "         Current function value: 0.496336\n",
      "         Iterations 6\n"
     ]
    },
    {
     "data": {
      "text/html": [
       "<table class=\"simpletable\">\n",
       "<caption>Logit Regression Results</caption>\n",
       "<tr>\n",
       "  <th>Dep. Variable:</th>       <td>Front</td>      <th>  No. Observations:  </th>  <td>   150</td> \n",
       "</tr>\n",
       "<tr>\n",
       "  <th>Model:</th>               <td>Logit</td>      <th>  Df Residuals:      </th>  <td>   147</td> \n",
       "</tr>\n",
       "<tr>\n",
       "  <th>Method:</th>               <td>MLE</td>       <th>  Df Model:          </th>  <td>     2</td> \n",
       "</tr>\n",
       "<tr>\n",
       "  <th>Date:</th>          <td>Wed, 05 Jun 2019</td> <th>  Pseudo R-squ.:     </th> <td>0.008127</td>\n",
       "</tr>\n",
       "<tr>\n",
       "  <th>Time:</th>              <td>19:18:49</td>     <th>  Log-Likelihood:    </th> <td> -74.450</td>\n",
       "</tr>\n",
       "<tr>\n",
       "  <th>converged:</th>           <td>True</td>       <th>  LL-Null:           </th> <td> -75.060</td>\n",
       "</tr>\n",
       "<tr>\n",
       "  <th> </th>                      <td> </td>        <th>  LLR p-value:       </th>  <td>0.5434</td> \n",
       "</tr>\n",
       "</table>\n",
       "<table class=\"simpletable\">\n",
       "<tr>\n",
       "         <td></td>            <th>coef</th>     <th>std err</th>      <th>z</th>      <th>P>|z|</th>  <th>[0.025</th>    <th>0.975]</th>  \n",
       "</tr>\n",
       "<tr>\n",
       "  <th>Intercept</th>       <td>   -1.4475</td> <td>    0.683</td> <td>   -2.119</td> <td> 0.034</td> <td>   -2.786</td> <td>   -0.109</td>\n",
       "</tr>\n",
       "<tr>\n",
       "  <th>TitleLength</th>     <td>    0.0040</td> <td>    0.012</td> <td>    0.341</td> <td> 0.733</td> <td>   -0.019</td> <td>    0.027</td>\n",
       "</tr>\n",
       "<tr>\n",
       "  <th>NumberOfComment</th> <td>   -0.0024</td> <td>    0.003</td> <td>   -0.964</td> <td> 0.335</td> <td>   -0.007</td> <td>    0.002</td>\n",
       "</tr>\n",
       "</table>"
      ],
      "text/plain": [
       "<class 'statsmodels.iolib.summary.Summary'>\n",
       "\"\"\"\n",
       "                           Logit Regression Results                           \n",
       "==============================================================================\n",
       "Dep. Variable:                  Front   No. Observations:                  150\n",
       "Model:                          Logit   Df Residuals:                      147\n",
       "Method:                           MLE   Df Model:                            2\n",
       "Date:                Wed, 05 Jun 2019   Pseudo R-squ.:                0.008127\n",
       "Time:                        19:18:49   Log-Likelihood:                -74.450\n",
       "converged:                       True   LL-Null:                       -75.060\n",
       "                                        LLR p-value:                    0.5434\n",
       "===================================================================================\n",
       "                      coef    std err          z      P>|z|      [0.025      0.975]\n",
       "-----------------------------------------------------------------------------------\n",
       "Intercept          -1.4475      0.683     -2.119      0.034      -2.786      -0.109\n",
       "TitleLength         0.0040      0.012      0.341      0.733      -0.019       0.027\n",
       "NumberOfComment    -0.0024      0.003     -0.964      0.335      -0.007       0.002\n",
       "===================================================================================\n",
       "\"\"\""
      ]
     },
     "execution_count": 18,
     "metadata": {},
     "output_type": "execute_result"
    }
   ],
   "source": [
    "# Front ~ TitleLength + NumberOfComment model\n",
    "front_model = sm.logit(formula=\"Front ~ TitleLength + NumberOfComment\", data=df).fit()\n",
    "front_model.summary()"
   ]
  },
  {
   "cell_type": "code",
   "execution_count": 19,
   "metadata": {},
   "outputs": [
    {
     "data": {
      "image/png": "[encoded data removed]",
      "text/plain": [
       "<Figure size 432x288 with 1 Axes>"
      ]
     },
     "metadata": {
      "needs_background": "light"
     },
     "output_type": "display_data"
    }
   ],
   "source": [
    "ax = df[df['Front']==0].plot.scatter(x='TitleLength',y='NumberOfComment',color='red',label='not front')\n",
    "df[df['Front']==1].plot.scatter(x='TitleLength',y='NumberOfComment',color='blue',label='front', ax=ax)\n",
    "\n",
    "plt.xlabel('TitleLength')\n",
    "plt.ylabel('NumberOfComment')\n",
    "plt.show()"
   ]
  },
  {
   "cell_type": "code",
   "execution_count": null,
   "metadata": {},
   "outputs": [],
   "source": [
    "# from the graf you can see that any article have more than 300 comments, it will not show in the front\n",
    "# and you can see that TitleLength doesn't have a strong relationship with if the article in front or not"
   ]
  }
 ],
 "metadata": {
  "kernelspec": {
   "display_name": "Python 3",
   "language": "python",
   "name": "python3"
  },
  "language_info": {
   "codemirror_mode": {
    "name": "ipython",
    "version": 3
   },
   "file_extension": ".py",
   "mimetype": "text/x-python",
   "name": "python",
   "nbconvert_exporter": "python",
   "pygments_lexer": "ipython3",
   "version": "3.7.2"
  }
 },
 "nbformat": 4,
 "nbformat_minor": 2
}
